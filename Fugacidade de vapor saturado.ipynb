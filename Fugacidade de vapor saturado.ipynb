{
 "cells": [
  {
   "attachments": {
    "image.png": {
     "image/png": "[encoded data removed]"
    }
   },
   "cell_type": "markdown",
   "metadata": {},
   "source": [
    "## Fugacity of saturated steam\n",
    "\n",
    "**Saturated steam** is a steam condition where both phases (liquid and gaseous) of water exist simultaneously for a certain condition of pressure and temperature. This can be accomplished when fugacity coefficient of the two phases are the same:\n",
    "\n",
    "* $ ln(\\phi_l) = ln(\\phi_v) $\n",
    "\n",
    "Once this condition is obtained, the value of fugacity coefficient can be used to calculate fugacity of **saturated steam**:\n",
    "\n",
    "* $ f = \\phi*P $\n",
    "\n",
    "For this problem we don't know the correct value of temperature for saturation condition. For this reason we must to use optimization tool in order to find the optimum temperature that satisfies the first equation. This is reached when the objective function is minimizated:\n",
    "\n",
    "* $ g(T) = (ln(\\phi_l(T)) - ln(\\phi_v(T)))^2 $\n",
    "\n",
    "The $ ln(\\phi) $ can be obtained by state equations where a famous one is **Peng-Robinson**:\n",
    "\n",
    "* $ P = \\frac{RT}{V_m-b} - \\frac{a\\alpha}{V_m^2+2bV_m-b^2} $\n",
    "\n",
    "Where:\n",
    "\n",
    "$ \\begin{cases}a = \\frac{0.45724R^2T_c^2}{P_c}\\\\\n",
    "b = \\frac{(0.07780RT_c)}{P_c}\\\\\n",
    "f_w = 0.37464 + 1.5422w - 0.26992w^2\\\\\n",
    "\\alpha = (1 + f_w * (1 - T_r^{0.5}))^2\\\\\n",
    "T_r = \\frac{T}{Tc}\\end{cases} $\n",
    "\n",
    "However, the first assignment is to find the molar volume of liquid and gaseous phases (by Peng-Robinson equation) to use they on $ ln(\\phi) $ calculation. This is accomplished by zeros of function approximation. The entire process to find **fugacity** in a certain pressure is:\n",
    "\n",
    "![image.png](attachment:image.png)"
   ]
  },
  {
   "cell_type": "code",
   "execution_count": 1,
   "metadata": {},
   "outputs": [],
   "source": [
    "import numpy as np\n",
    "from sympy import *"
   ]
  },
  {
   "cell_type": "code",
   "execution_count": 2,
   "metadata": {},
   "outputs": [],
   "source": [
    "#-------------- Variable to find in zero of function approximation ------------------#\n",
    "V = symbols('V') "
   ]
  },
  {
   "cell_type": "code",
   "execution_count": 3,
   "metadata": {},
   "outputs": [],
   "source": [
    "#---------------------------------- Peng-Robinson -----------------------------------#\n",
    "\n",
    "def PengRob(R, Tc, Pc, w, P, T):\n",
    "\n",
    "    Tr   = T/Tc\n",
    "    fw   = 0.37464 + (1.5422*w) - (0.26992*(w**2))\n",
    "    alfa = (1 + fw * (1 - (Tr**0.5)))**2\n",
    "    a    = 0.45724 * ((R * Tc)**2)/Pc\n",
    "    b    = 0.07780 * (R * Tc)/Pc\n",
    "    \n",
    "    f = (((R * T)/(V - b)) - ((a * alfa)/((V * (V + b)) + (b * (V - b)))) - P)**2\n",
    "    \n",
    "    return f"
   ]
  },
  {
   "cell_type": "code",
   "execution_count": 4,
   "metadata": {},
   "outputs": [],
   "source": [
    "#---------------------------------- Molar volume ------------------------------------#\n",
    "\n",
    "def roots (R, Tc, Pc, w, P, T):\n",
    "    \n",
    "    V_l, _, V_v = solveset(PengRob(R, Tc, Pc, w, P, T), V, S.Reals)\n",
    "    \n",
    "    return V_l, V_v"
   ]
  },
  {
   "cell_type": "code",
   "execution_count": 5,
   "metadata": {},
   "outputs": [],
   "source": [
    "#------------------------------------ Ln(phi) ---------------------------------------#\n",
    "\n",
    "def Lnphi (R, Tc, Pc, w, P, T): \n",
    "    \n",
    "    V_l, V_v    = roots (R, Tc, Pc, w, P, T)\n",
    "    Tr   = T/Tc\n",
    "    fw   = 0.37464 + (1.5422*w) - (0.26992*(w**2))\n",
    "    alfa = (1 + fw * (1 - (Tr**0.5)))**2\n",
    "    a    = float(0.45724 * ((R * Tc)**2)/Pc)\n",
    "    b    = float(0.07780 * (R * Tc)/Pc)\n",
    "    h_l  = float(b/V_l)\n",
    "    h_v  = float(b/V_v)\n",
    "    fi   = float(a * alfa)\n",
    "    Z_l  = float((P * V_l)/(R * T))\n",
    "    Z_v  = float((P * V_v)/(R * T))\n",
    "    \n",
    "    coefug_l = Z_l - 1 - np.log(Z_l*(1-h_l)) - (((fi/(b*R*T))/(2*np.sqrt(2)))*np.log((1+(1+np.sqrt(2))*h_l)/(1+(1-np.sqrt(2))*h_l)))\n",
    "    coefug_v = Z_v - 1 - np.log(Z_v*(1-h_v)) - (((fi/(b*R*T))/(2*np.sqrt(2)))*np.log((1+(1+np.sqrt(2))*h_v)/(1+(1-np.sqrt(2))*h_v)))\n",
    "    \n",
    "    #----------------- Fobj --------------------#\n",
    "    f = -(coefug_l - coefug_v)**2\n",
    "        \n",
    "    \n",
    "    return f, coefug_l, coefug_v"
   ]
  },
  {
   "cell_type": "code",
   "execution_count": 6,
   "metadata": {},
   "outputs": [],
   "source": [
    "#------------------------------------ Optimization -----------------------------------#\n",
    "\n",
    "def sec_aurea(Tu, Tl, tol):\n",
    "    \n",
    "    R = ((np.sqrt(5)-1)/2)\n",
    "    d = R * (Tu-Tl)\n",
    "    T1 = Tl + d\n",
    "    T2 = Tu - d\n",
    "    \n",
    "    f1 = Lnphi (R, Tc, Pc, w, P, T1)\n",
    "    f2 = Lnphi (R, Tc, Pc, w, P, T2)\n",
    "    \n",
    "    erro = (1-R) * abs((Tu-Tl)/T2)\n",
    "    \n",
    "    while(erro > tol):\n",
    "        \n",
    "        if f1>f2:\n",
    "        \n",
    "            Tl = T2\n",
    "            T2 = T1\n",
    "            d = ((np.sqrt(5)-1)/2)*(Tu-Tl)\n",
    "            T1 = Tl + d\n",
    "            f1,_,_ = Lnphi (R, Tc, Pc, w, P, T1)\n",
    "            f2,_,_ = Lnphi (R, Tc, Pc, w, P, T2)\n",
    "            erro = (1-R) * abs((Tu-Tl)/T2)\n",
    "            \n",
    "        if f1<f2:\n",
    "        \n",
    "            Tu = T1\n",
    "            T1 = T2\n",
    "            d = ((np.sqrt(5)-1)/2)*(Tu-Tl)\n",
    "            T2 = Tu - d\n",
    "            f1,_,_ = Lnphi (R, Tc, Pc, w, P, T1)\n",
    "            f2,_,_ = Lnphi (R, Tc, Pc, w, P, T2)\n",
    "            erro = (1-R) * abs((Tu-Tl)/T2)\n",
    "            \n",
    "        \n",
    "    return T2"
   ]
  },
  {
   "cell_type": "code",
   "execution_count": 8,
   "metadata": {},
   "outputs": [
    {
     "name": "stdout",
     "output_type": "stream",
     "text": [
      "Temperature value for saturated steam in a pressure of 5 bar: 425.6249685160372\n",
      "Fugacity coefficient in liquid phase: -0.03019509485074856\n",
      "Fugacity coefficient in gaseous phase: -0.03024325626189761\n",
      "Fugacity in a pressure of 5 bar: 4.851281115446646\n"
     ]
    }
   ],
   "source": [
    "#-------------------------------------- Variables of problem --------------------------------------#\n",
    "R  = 83.14  #cm³*bar/mol*K\n",
    "Tc = 647.3  #K\n",
    "Pc = 220.48 #bar\n",
    "w  = 0.344\n",
    "P  = 5  #bar\n",
    "\n",
    "#--------------------------------------- ln(phi) calculation ----------------------------------------#\n",
    "Tu = 400 #K\n",
    "Tl = 500 #K\n",
    "T = sec_aurea(Tu, Tl, 1e-5)\n",
    "_,lnphi_l,lnphi_v = Lnphi (R, Tc, Pc, w, P, T)\n",
    "\n",
    "\n",
    "#------------------------------------- Fugacity calculation ---------------------------------------#\n",
    "phi = np.exp(lnphi_l)\n",
    "fugacity = phi * P\n",
    "\n",
    "#------------------------------------------ Results ----------------------------------------------#\n",
    "print(\"Temperature value for saturated steam in a pressure of\",P,\"bar:\", T,\"K\")\n",
    "print(\"Fugacity coefficient in liquid phase:\",lnphi_l)\n",
    "print(\"Fugacity coefficient in gaseous phase:\",lnphi_v)\n",
    "print(\"Fugacity in a pressure of\",P,\"bar:\",fugacity)"
   ]
  },
  {
   "cell_type": "code",
   "execution_count": null,
   "metadata": {},
   "outputs": [],
   "source": []
  }
 ],
 "metadata": {
  "kernelspec": {
   "display_name": "Python 3",
   "language": "python",
   "name": "python3"
  },
  "language_info": {
   "codemirror_mode": {
    "name": "ipython",
    "version": 3
   },
   "file_extension": ".py",
   "mimetype": "text/x-python",
   "name": "python",
   "nbconvert_exporter": "python",
   "pygments_lexer": "ipython3",
   "version": "3.7.3"
  }
 },
 "nbformat": 4,
 "nbformat_minor": 2
}
