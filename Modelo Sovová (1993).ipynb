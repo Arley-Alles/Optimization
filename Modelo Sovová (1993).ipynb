{
 "cells": [
  {
   "cell_type": "markdown",
   "id": "f32bf372",
   "metadata": {},
   "source": [
    "## <center>Modelagem de extração de óleos vegetais "
   ]
  },
  {
   "cell_type": "markdown",
   "id": "7d1fb5f1",
   "metadata": {},
   "source": [
    "### Modelo de Sovová (1994)"
   ]
  },
  {
   "cell_type": "markdown",
   "id": "ad1c1daf",
   "metadata": {},
   "source": [
    "O desenvolvimento deste algoritmo foi baseado no trabalho de MARTINEZ & MARTINEZ, 2007.\n",
    "\n",
    "* MARTINEZ, J.; MARTINEZ, J. M.; Fitting the Sovová's supercritical fluid extraction model by means of a global optimization tool, *Computers & Chemical Engineering*, 32, p. 1735-1745, 2008."
   ]
  },
  {
   "cell_type": "markdown",
   "id": "cd879960",
   "metadata": {},
   "source": [
    "#### Teoria\n",
    "O modelo proposto por Sovová é baseado no fenômeno de transferência de massa dentro de um reator. Tal modelo considera que parte do material a ser extraído (Xp) é de fácil acesso pelo solvente, devido a quebra das estruturas celulares durante o processo de moagem. A outra fração do soluto (Xk) fica presente nas estruturas celulares que não foram trituradas, dificultando o transporte de massa por ação do solvente. Neste caso o processo de extração é dividido em três períodos:\n",
    "\n",
    "* Transporte controlado pela convecção;\n",
    "* Transporte controlado pela convecção e difusão;\n",
    "* Trnasporte controlado pela difusão"
   ]
  },
  {
   "cell_type": "markdown",
   "id": "1db846ee",
   "metadata": {},
   "source": [
    "#### Equações:\n",
    "\n",
    "\\begin{cases}\n",
    "    y(t)=Q_{CO_{2}}Y^*[1-e^{-Z}]t   & \\text{se $0 \\leq t \\leq t_{CER}$}\\\\\n",
    "    y(t)=Q_{CO_{2}}Y^*[t-t_{CER}e^{(Z_w(t)-Z)}] & \\text{se $t_{CER} < t \\leq t_{FER}$}\\\\\n",
    "    y(t)=m_{SI}[X_{0}-\\frac{Y^*}{W}\\ln{(1+[e^{(\\frac{WX_0}{Y^*})}-1]\\times e^{[\\frac{WQ_{CO_2}}{m_{SI}}(t_{CER}-t)]}(\\frac{X_k}{X_0})})] & \\text{se $t > t_{FER}$}\n",
    "\\end{cases}\n",
    "\n",
    "O valor de $Z_w$ é dado por:\n",
    "\n",
    "$Z_{w}(t)=\\frac{ZY^*}{WX_0}ln{(\\frac{X_0e^{[WQ_{CO_2}(t-t_{CER})/m_{SI}]}-X_k}{X_0-X_k})}$\n",
    "\n",
    "Em que $X_p$ é dado por:\n",
    "\n",
    "$X_p=\\frac{t_{CER}Y^*ZQ_{CO_2}}{m_{SI}}$ e $X_k=X_0-X_p$\n"
   ]
  },
  {
   "cell_type": "markdown",
   "id": "9822dd7c",
   "metadata": {},
   "source": [
    "#### Parâmetros de entrada do modelo\n",
    "\n",
    "*  $Q_{CO_2}$ --> Vazão mássica do solvente (g/min)\n",
    "* $Y^*$ --> Solubilidade do material extraível no determinado solvente na condição de pressão e temperatura de processo(g/g)\n",
    "* $m_{SI}$ --> Massa do material não extraível (g)\n",
    "* $X_0$ --> Massa inicial de material extraível, relativa à massa do material não extraível (g/g)\n",
    "\n",
    "#### Parâmetros a serem estimados\n",
    "\n",
    "* $t_{CER}$ --> Fim do primeiro período de extração (min)\n",
    "* $t_{FER}$ --> Fim do segundo período de extração (min)\n",
    "* $Z$ --> Parâmetro do modelo relacionado com a convecção da fase fluida\n",
    "* $W$ --> Parâmetro do modelo relacionado com a difusão na fase sólida "
   ]
  },
  {
   "cell_type": "markdown",
   "id": "5f504e40",
   "metadata": {},
   "source": [
    "## Importando as bibliotecas"
   ]
  },
  {
   "cell_type": "code",
   "execution_count": 1,
   "id": "bd074a11",
   "metadata": {},
   "outputs": [],
   "source": [
    "import numpy as np\n",
    "from scipy.optimize import minimize\n",
    "import matplotlib.pyplot as plt"
   ]
  },
  {
   "cell_type": "markdown",
   "id": "2d4f90bc",
   "metadata": {},
   "source": [
    "## Função objetivo para modelo de Sovová"
   ]
  },
  {
   "cell_type": "code",
   "execution_count": 2,
   "id": "e1a85827",
   "metadata": {},
   "outputs": [],
   "source": [
    "def SOVOVA(L, t, y_exp, Q, Y, Msi, X0):\n",
    "    \n",
    "    #---------------------------------------------- Dados de entrada ------------------------------------------------#\n",
    "    #Tcer --> L[0]\n",
    "    #Tfer --> L[1]\n",
    "    #Z    --> L[2]\n",
    "    #W    --> L[3]\n",
    "    \n",
    "    \n",
    "    m1, m2, m3 = [],[],[]\n",
    "    t1, t2, t3 = [],[],[]\n",
    "    \n",
    "    #------------------------ Separação do conjunto de dados para cada fase do processo -----------------------------#\n",
    "    #------------------------------------(covectivo, advectivo, dois processos) -------------------------------------#\n",
    "    for i in range(len(t)):\n",
    "        if t[i]<=L[0]:\n",
    "            m1.append(y_exp[i])\n",
    "            t1.append(t[i])\n",
    "        \n",
    "        elif (t[i]>L[0]) & (t[i]<=L[1]):\n",
    "            m2.append(y_exp[i])\n",
    "            t2.append(t[i])\n",
    "            \n",
    "        elif(t[i]>L[1]):\n",
    "            m3.append(y_exp[i])\n",
    "            t3.append(t[i])\n",
    "            \n",
    "    #--------------------------------------- Convertendo lista para array -----------------------------------------#       \n",
    "    t1 = np.array(t1)\n",
    "    t2 = np.array(t2)\n",
    "    t3 = np.array(t3)\n",
    "    \n",
    "    #-------------------------------------------- Cálculos de Xk e Zw ---------------------------------------------#\n",
    "    Xk  = X0 - (L[0]*Y*Q*L[2])/(Msi)\n",
    "    num = X0*np.exp(L[3]*Q*(t2-L[0])/Msi)-Xk\n",
    "    den = X0 -Xk\n",
    "    Zw  = ((L[2]*Y)/(L[3]*X0))*np.log(num/den)\n",
    "    \n",
    "    #-------------------------------- Cálculo das massas pelo modelo de Sovová ------------------------------------#\n",
    "    y1 = Q*Y*(1-np.exp(-L[2]))*t1\n",
    "    y2 = Q*Y*(t2-L[0]*np.exp((Zw-L[2])))\n",
    "    a  = np.log(1+(np.exp((L[3]*X0)/Y)-1)*np.exp(((L[3]*Q)/Msi)*(L[0]-t3))*(Xk/X0))\n",
    "    y3 = Msi*(X0-(Y/L[3])*a)\n",
    "    \n",
    "    \n",
    "    #-------------------------------------------------- Fobj ------------------------------------------------------#\n",
    "    y_calc = np.concatenate((y1, y2, y3), axis = None)\n",
    "    F_obj = sum((y_calc - y_exp)**2)\n",
    "    \n",
    "        \n",
    "    return F_obj"
   ]
  },
  {
   "cell_type": "markdown",
   "id": "4f39fa55",
   "metadata": {},
   "source": [
    "## Função de Sovová para obter pontos calculados"
   ]
  },
  {
   "cell_type": "code",
   "execution_count": 3,
   "id": "05204565",
   "metadata": {},
   "outputs": [],
   "source": [
    "def SOVOVA_resp(L, t, Q, Y, Msi, X0):\n",
    "    \n",
    "    #---------------------------------------------- Dados de entrada ------------------------------------------------#\n",
    "    #Tcer --> L[0]\n",
    "    #Tfer --> L[1]\n",
    "    #Z    --> L[2]\n",
    "    #W    --> L[3]\n",
    "    \n",
    "    \n",
    "    m1, m2, m3 = [],[],[]\n",
    "    t1, t2, t3 = [],[],[]\n",
    "    \n",
    "    #------------------------ Separação do conjunto de dados para cada fase do processo -----------------------------#\n",
    "    #------------------------------------(covectivo, advectivo, dois processos) -------------------------------------#\n",
    "    for i in range(len(t)):\n",
    "        if t[i]<=L[0]:\n",
    "            m1.append(y_exp[i])\n",
    "            t1.append(t[i])\n",
    "        \n",
    "        elif (t[i]>L[0]) & (t[i]<=L[1]):\n",
    "            m2.append(y_exp[i])\n",
    "            t2.append(t[i])\n",
    "            \n",
    "        elif(t[i]>L[1]):\n",
    "            m3.append(y_exp[i])\n",
    "            t3.append(t[i])\n",
    "            \n",
    "    #--------------------------------------- Convertendo lista para array -----------------------------------------#       \n",
    "    t1 = np.array(t1)\n",
    "    t2 = np.array(t2)\n",
    "    t3 = np.array(t3)\n",
    "    \n",
    "    #-------------------------------------------- Cálculos de Xk e Zw ---------------------------------------------#\n",
    "    Xk  = X0 - (L[0]*Y*Q*L[2])/(Msi)\n",
    "    num = X0*np.exp(L[3]*Q*(t2-L[0])/Msi)-Xk\n",
    "    den = X0 -Xk\n",
    "    Zw  = ((L[2]*Y)/(L[3]*X0))*np.log(num/den)\n",
    "    \n",
    "    #-------------------------------- Cálculo das massas pelo modelo de Sovová ------------------------------------#\n",
    "    y1 = Q*Y*(1-np.exp(-L[2]))*t1\n",
    "    y2 = Q*Y*(t2-L[0]*np.exp((Zw-L[2])))\n",
    "    a  = np.log(1+(np.exp((L[3]*X0)/Y)-1)*np.exp(((L[3]*Q)/Msi)*(L[0]-t3))*(Xk/X0))\n",
    "    y3 = Msi*(X0-(Y/L[3])*a)\n",
    "    \n",
    "    \n",
    "    #-------------------------------------------------- Fobj ------------------------------------------------------#\n",
    "    y_calc = np.concatenate((y1, y2, y3), axis = None)\n",
    "    \n",
    "    \n",
    "        \n",
    "    return y_calc"
   ]
  },
  {
   "cell_type": "markdown",
   "id": "4c65bd3d",
   "metadata": {},
   "source": [
    "## Funções de restrição para o otimizador"
   ]
  },
  {
   "cell_type": "code",
   "execution_count": 4,
   "id": "47a933a2",
   "metadata": {},
   "outputs": [],
   "source": [
    "def constrain1(L):\n",
    "    return L[0]\n",
    "\n",
    "def constrain2(L):\n",
    "    return L[1]\n",
    "\n",
    "def constrain3(L):\n",
    "    return L[2]\n",
    "\n",
    "def constrain4(L):\n",
    "    return L[3]"
   ]
  },
  {
   "cell_type": "markdown",
   "id": "b04882d8",
   "metadata": {},
   "source": [
    "## Otimizador (REGIÃO ONDE PODEM SER FEITAS ALTERAÇÕES)"
   ]
  },
  {
   "cell_type": "code",
   "execution_count": 5,
   "id": "d13d150f",
   "metadata": {},
   "outputs": [],
   "source": [
    "con1 = {'type': 'ineq', 'fun': constrain1}\n",
    "con2 = {'type': 'ineq', 'fun': constrain2}\n",
    "con3 = {'type': 'ineq', 'fun': constrain3}\n",
    "con4 = {'type': 'ineq', 'fun': constrain4}\n",
    "constrain = [con1, con2, con3, con4]\n",
    "\n",
    "#------------------------ Fronteiras dos parâmetros -----------------#\n",
    "tcer = (6, 21)  #Local alterável\n",
    "tfer = (26, 42) #Local alterável\n",
    "z    = (0.01, 20)   #Local alterável\n",
    "w    = (0.01, 20)\n",
    "bounds = (tcer, tfer, z, w)\n",
    "\n",
    "#---------------------------- Dados de entrada ----------------------#\n",
    "t     = np.array([0,3,6,10,15,20,30,40,60,80,100,130]) #min (Alterável)\n",
    "y_exp = np.array([0, 0.9273, 1.8683, 3.0813, 4.528, 5.7817, 7.1892,\n",
    "                  8.0557, 8.9622, 9.4234, 9.7368, 10.0064]) #g (Alterável)\n",
    "\n",
    "Q     = 0.52899   #g/min    \n",
    "Y     = 0.6078   #Solubilidade (g/g)       \n",
    "Msi   = 14.564530    #Massa não extraível (g) \n",
    "X0    = 0.9192   #Rendimento (g/g) global\n",
    "\n",
    "\n",
    "\n",
    "\n",
    "#------------------------ Chute inicial do modelo ------------------#\n",
    "x0 = np.array([10, 31, 1, 1]) #Local alterável (Chute inicial do modelo)\n",
    "\n",
    "\n",
    "#------------------------------- Optmization -----------------------#\n",
    "args = (t, y_exp, Q, Y, Msi, X0)\n",
    "solution = minimize(SOVOVA, x0, args = args, bounds = bounds, \n",
    "                    method = 'SLSQP', constraints = constrain)"
   ]
  },
  {
   "cell_type": "markdown",
   "id": "a17f4a25",
   "metadata": {},
   "source": [
    "## Parâmetros do modelo"
   ]
  },
  {
   "cell_type": "code",
   "execution_count": 6,
   "id": "bb8b9ba1",
   "metadata": {},
   "outputs": [
    {
     "name": "stdout",
     "output_type": "stream",
     "text": [
      "Tcer ------> 9.049755226166607\n",
      "Tfer ------> 31.0\n",
      "Z ------> 2.5623651089205866\n",
      "W ------> 0.17200079456563455\n"
     ]
    }
   ],
   "source": [
    "T = [\"Tcer\", \"Tfer\", \"Z\", \"W\"]\n",
    "\n",
    "for i,resp in enumerate(solution.x):\n",
    "    print(T[i], \"------>\", resp) "
   ]
  },
  {
   "cell_type": "markdown",
   "id": "86c81b5e",
   "metadata": {},
   "source": [
    "## Plot dos valores"
   ]
  },
  {
   "cell_type": "code",
   "execution_count": 7,
   "id": "9a10b129",
   "metadata": {},
   "outputs": [
    {
     "data": {
      "text/plain": [
       "Text(0.5, 0, 'Tempo(min)')"
      ]
     },
     "execution_count": 7,
     "metadata": {},
     "output_type": "execute_result"
    },
    {
     "data": {
      "image/png": "[encoded data removed]",
      "text/plain": [
       "<Figure size 432x288 with 1 Axes>"
      ]
     },
     "metadata": {
      "needs_background": "light"
     },
     "output_type": "display_data"
    }
   ],
   "source": [
    "Y_calc = SOVOVA_resp(solution.x, t, Q, Y, Msi, X0) #Valor calculado pelo modelo de Martínez\n",
    "\n",
    "plt.plot(t, y_exp, 'o')\n",
    "plt.plot(t, Y_calc)\n",
    "plt.ylabel('Massa (g)', fontsize=18)\n",
    "plt.xlabel('Tempo(min)', fontsize=18)"
   ]
  },
  {
   "cell_type": "markdown",
   "id": "2206a67a",
   "metadata": {},
   "source": [
    "## Imprimindo os valores e calculando os erros"
   ]
  },
  {
   "cell_type": "code",
   "execution_count": 8,
   "id": "2f570ae7",
   "metadata": {},
   "outputs": [
    {
     "name": "stdout",
     "output_type": "stream",
     "text": [
      "Os valores experimentais, calculados e erro são, respectivamente:\n",
      "\n",
      "y_exp 1 : 0.0 | y_calc 1 : 0.0 | Erro: 0.0\n",
      "y_exp 2 : 0.93 | y_calc 2 : 0.89 | Erro: 0.04\n",
      "y_exp 3 : 1.87 | y_calc 3 : 1.78 | Erro: 0.09\n",
      "y_exp 4 : 3.08 | y_calc 4 : 2.97 | Erro: 0.12\n",
      "y_exp 5 : 4.53 | y_calc 5 : 4.39 | Erro: 0.13\n",
      "y_exp 6 : 5.78 | y_calc 6 : 5.7 | Erro: 0.08\n",
      "y_exp 7 : 7.19 | y_calc 7 : 7.61 | Erro: 0.42\n",
      "y_exp 8 : 8.06 | y_calc 8 : 8.09 | Erro: 0.03\n",
      "y_exp 9 : 8.96 | y_calc 9 : 8.68 | Erro: 0.28\n",
      "y_exp 10 : 9.42 | y_calc 10 : 9.21 | Erro: 0.21\n",
      "y_exp 11 : 9.74 | y_calc 11 : 9.69 | Erro: 0.05\n",
      "y_exp 12 : 10.01 | y_calc 12 : 10.3 | Erro: 0.29\n",
      "\n",
      "O erro médio foi:  14.5 %\n"
     ]
    }
   ],
   "source": [
    "print(\"Os valores experimentais, calculados e erro são, respectivamente:\")\n",
    "print(\"\")\n",
    "for i, y in enumerate(y_exp):\n",
    "    print(\"y_exp\", i+1, \":\", round(y,2), \"|\", \"y_calc\", i+1, \":\", round(Y_calc[i],2), \"|\", \"Erro:\", round(abs(y-Y_calc[i]),2))\n",
    "    \n",
    "Erro_medio = np.sum(abs(y_exp - Y_calc))/len(y_exp)\n",
    "print(\"\")\n",
    "print(\"O erro médio foi: \", round(Erro_medio*100,2),\"%\")"
   ]
  },
  {
   "cell_type": "code",
   "execution_count": 9,
   "id": "d0f20eb9",
   "metadata": {},
   "outputs": [
    {
     "name": "stdout",
     "output_type": "stream",
     "text": [
      "[ 0.          0.89017142  1.78034285  2.96601804  4.39377696  5.70091763\n",
      "  7.60689692  8.0863969   8.68148322  9.21245262  9.68565254 10.299765  ]\n"
     ]
    }
   ],
   "source": [
    "print(Y_calc)"
   ]
  },
  {
   "cell_type": "code",
   "execution_count": null,
   "id": "3217e969",
   "metadata": {},
   "outputs": [],
   "source": []
  }
 ],
 "metadata": {
  "kernelspec": {
   "display_name": "Python 3",
   "language": "python",
   "name": "python3"
  },
  "language_info": {
   "codemirror_mode": {
    "name": "ipython",
    "version": 3
   },
   "file_extension": ".py",
   "mimetype": "text/x-python",
   "name": "python",
   "nbconvert_exporter": "python",
   "pygments_lexer": "ipython3",
   "version": "3.9.5"
  }
 },
 "nbformat": 4,
 "nbformat_minor": 5
}
