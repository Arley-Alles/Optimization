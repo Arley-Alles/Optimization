{
 "cells": [
  {
   "cell_type": "code",
   "execution_count": 1,
   "id": "1857a927",
   "metadata": {},
   "outputs": [],
   "source": [
    "import numpy as np\n",
    "import matplotlib.pyplot as plt"
   ]
  },
  {
   "cell_type": "markdown",
   "id": "2d64e1df",
   "metadata": {},
   "source": [
    "### Langmuir function"
   ]
  },
  {
   "cell_type": "code",
   "execution_count": 2,
   "id": "cff0cc4d",
   "metadata": {},
   "outputs": [],
   "source": [
    "def f_Langmuir (L, **kwargs):\n",
    "    \n",
    "    F = []\n",
    "    X = kwargs.get(\"P\")\n",
    "    Y = kwargs.get(\"Y\")\n",
    "    \n",
    "    row, column = np.shape(L)\n",
    "    \n",
    "    for i in range(int(column)):\n",
    "        f = abs((((L[0,i] * X)/(1+L[1,i]*X))- Y)**2)/len(X)\n",
    "        F.append(np.sum(f))\n",
    "    \n",
    "    fobj = np.array(F)\n",
    "    \n",
    "    return fobj"
   ]
  },
  {
   "cell_type": "markdown",
   "id": "3be8dd92",
   "metadata": {},
   "source": [
    "### Freundlich function"
   ]
  },
  {
   "cell_type": "code",
   "execution_count": 3,
   "id": "cc29b5bf",
   "metadata": {},
   "outputs": [],
   "source": [
    "def f_Freundlich (L, **kwargs):\n",
    "    \n",
    "    F = []\n",
    "    X = kwargs.get(\"P\")\n",
    "    Y = kwargs.get(\"Y\")\n",
    "    row, column = np.shape(L)\n",
    "    \n",
    "    for i in range(int(column)):\n",
    "        f = abs((L[0,i] * (X**(1/L[1,i]))- Y))/len(X)\n",
    "        F.append(np.sum(f))\n",
    "    \n",
    "    fobj = np.array(F)\n",
    "    \n",
    "    return fobj"
   ]
  },
  {
   "cell_type": "markdown",
   "id": "52ece401",
   "metadata": {},
   "source": [
    "### Sips function"
   ]
  },
  {
   "cell_type": "code",
   "execution_count": 4,
   "id": "438bfc9f",
   "metadata": {},
   "outputs": [],
   "source": [
    "def f_Sips (P, **kwargs):\n",
    "    \n",
    "    F = []\n",
    "    X = kwargs.get(\"P\")\n",
    "    Y = kwargs.get(\"Y\")\n",
    "    row, column = np.shape(L)\n",
    "    \n",
    "    for i in range(int(column)):\n",
    "        f = abs(((L[0,i] * (X**L[2,i]))/(1+L[1,i]*(X**L[2,i]))- Y)**2)/len(X)\n",
    "        F.append(np.sum(f))\n",
    "    \n",
    "    fobj = np.array(F)\n",
    "    \n",
    "    return fobj"
   ]
  },
  {
   "cell_type": "markdown",
   "id": "248a9343",
   "metadata": {},
   "source": [
    "### Radke-Prausnitz function"
   ]
  },
  {
   "cell_type": "code",
   "execution_count": 5,
   "id": "a7143f40",
   "metadata": {},
   "outputs": [],
   "source": [
    "def f_Radke (P, **kwargs):\n",
    "    \n",
    "    F = []\n",
    "    X = kwargs.get(\"P\")\n",
    "    Y = kwargs.get(\"Y\")\n",
    "    row, column = np.shape(L)\n",
    "    \n",
    "    for i in range(int(column)):\n",
    "        f = abs(((L[0,i] * X)/(1+L[1,i]*(X**L[2,i]))- Y)**2)/len(X)\n",
    "        F.append(np.sum(f))\n",
    "    \n",
    "    fobj = np.array(F)\n",
    "    \n",
    "    return fobj"
   ]
  },
  {
   "cell_type": "markdown",
   "id": "4b565ee8",
   "metadata": {},
   "source": [
    "### Particle Swarm Optimization (PSO)"
   ]
  },
  {
   "cell_type": "code",
   "execution_count": 6,
   "id": "b1dfe826",
   "metadata": {},
   "outputs": [],
   "source": [
    "def PSO (f, bound, w =0.8, c1=0.1, c2=0.1, n_part=20, n_ite=100, **kwargs):\n",
    "    \n",
    "    P = kwargs.get(\"P\")\n",
    "    Y = kwargs.get(\"Y\")\n",
    "    \n",
    "    #----------------------------------------------- Some variables ------------------------------------------# \n",
    "    n_var = len(bound)\n",
    "    cont  = 0\n",
    "    \n",
    "    #------------------------------- Definition of initial particles and velocity ----------------------------#\n",
    "    V     = np.random.randn(n_var, n_part) * 0.1\n",
    "    X     = np.zeros((n_var,n_part))\n",
    "    \n",
    "    #------------------------------------- Restriction for not crossing the bounds ---------------------------#\n",
    "    for l,Bound in enumerate(bound):\n",
    "        N     = int((n_part)/2)\n",
    "        x_min = np.random.rand(1, N) * Bound[0]\n",
    "        x_max = np.random.rand(1, abs(N-n_part)) * Bound[1]\n",
    "        x     = np.concatenate((x_min, x_max), axis = None)\n",
    "        X[l,:]= x\n",
    "        \n",
    "    #------------------------------------ Definition of initial P_best and G_best ----------------------------#\n",
    "    P_best   = X\n",
    "    P_best_f = f(X, P=P, Y=Y)\n",
    "    G_best   = P_best[:, P_best_f.argmin()]\n",
    "    G_best_f = P_best_f.min()\n",
    "    \n",
    "    #-------------------------------------------- Iterative procedure ----------------------------------------#\n",
    "    while(cont < n_ite):\n",
    "        r   = np.random.rand(n_var)\n",
    "        V   = w * V + c1*r[0]*(P_best - X) + c2*r[1]*(G_best.reshape(-1,1)-X)\n",
    "        X   = X + V\n",
    "        \n",
    "        #-------------------- Restriction for the particles not crossing the bounds -------------------------#\n",
    "        for m, Bound in enumerate(bound):\n",
    "            X[m,(X[m,:]<Bound[0])] = Bound[0]\n",
    "            X[m,(X[m,:]>Bound[1])] = Bound[1]\n",
    "        \n",
    "        #-------------------------------------- New P_best and G_best ---------------------------------------#\n",
    "        obj = f(X, P=P, Y=Y)\n",
    "        P_best[:, (P_best_f >= obj)] = X[:, (P_best_f >= obj)]\n",
    "        P_best_f   = np.array([P_best_f, obj]).min(axis=0)\n",
    "        G_best     = P_best[:, P_best_f.argmin()]\n",
    "        G_best_f   = P_best_f.min()\n",
    "        cont +=1\n",
    "        \n",
    "    return G_best_f, G_best"
   ]
  },
  {
   "cell_type": "markdown",
   "id": "21b5b765",
   "metadata": {},
   "source": [
    "### Plot function"
   ]
  },
  {
   "cell_type": "code",
   "execution_count": 7,
   "id": "cd766906",
   "metadata": {},
   "outputs": [],
   "source": [
    "def plot_func(L, Model, **kwargs):\n",
    "    \n",
    "    X = kwargs.get(\"P\")\n",
    "    Y = kwargs.get(\"Y\")\n",
    "    \n",
    "    if Model == 'Langmuir':\n",
    "        y_pred = (L[0] * X)/(1+L[1]*X)\n",
    "\n",
    "    elif Model == 'Freundlich':\n",
    "        y_pred = L[0] * (X**(1/L[1]))\n",
    "        \n",
    "    elif Model == 'Sips':\n",
    "        y_pred = (L[0] * (X**L[2]))/(1+L[1]*(X**L[2]))\n",
    "        \n",
    "    elif Model == 'Radke':\n",
    "        y_pred = (L[0] * X)/(1+L[1]*(X**L[2]))\n",
    "        \n",
    "    \n",
    "    fig, axe = plt.subplots(1, 1, figsize = (10,5))\n",
    "    axe.scatter(X, Y, color = 'red', label = 'Experimental points')\n",
    "    axe.plot(X, y_pred, color = 'black', label = 'Model')\n",
    "    axe.legend(loc= 'best')\n",
    "    axe.set_title(Model, fontsize=14)\n",
    "    axe.set_xlabel(\"Pressure-Psia\")\n",
    "    axe.set_ylabel(\"Amount adsorbed - Mol/Kg\")"
   ]
  },
  {
   "cell_type": "markdown",
   "id": "0ff85702",
   "metadata": {},
   "source": [
    "### Performing the above functions"
   ]
  },
  {
   "cell_type": "code",
   "execution_count": 8,
   "id": "b94f7312",
   "metadata": {},
   "outputs": [
    {
     "name": "stdout",
     "output_type": "stream",
     "text": [
      "The value of cost function is:  0.0022310147422870573\n",
      "\n",
      "The parameters are:\n",
      "[0.04009673 0.00768647]\n"
     ]
    },
    {
     "data": {
      "image/png": "[encoded data removed]",
      "text/plain": [
       "<Figure size 720x360 with 1 Axes>"
      ]
     },
     "metadata": {
      "needs_background": "light"
     },
     "output_type": "display_data"
    }
   ],
   "source": [
    "#------------------------------------------------ Dataset --------------------------------------------#\n",
    "P = np.array([10.5, 19.1, 26.3, 39.8, 57.8, 67.8, 87.9, 98.3,\n",
    "             119.4, 126.6, 129.8, 150.4, 168.6, 182.9, 192.7, \n",
    "             209.4, 230.3, 238.4, 249.3, 290.4, 343.3, 396.2,\n",
    "             449.1, 500.0, 555.4])\n",
    "\n",
    "Y = np.array([0.477, 0.764, 0.966, 1.298, 1.644, 1.811, 2.097,\n",
    "             2.230, 2.463, 2.560, 2.564, 2.748, 2.894, 3.065,\n",
    "             3.064, 3.174, 3.284, 3.385, 3.395, 3.617, 3.806, \n",
    "              3.974, 4.049, 4.195, 4.250])\n",
    "\n",
    "#--------------------------------------- Bounds of PSO optimization ----------------------------------#\n",
    "bound_Langmuir    = [(1E-3,5), (1E-3,5)]\n",
    "#bound_Freundlich  = [(1E-2,5), (1E-3,5)]\n",
    "#bound_Sips         = [(1E-3,5), (1E-3,5), (1E-3,5)]\n",
    "#bound_Radke        = [(1E-3,5), (1E-3,5), (1E-3,5)]\n",
    "\n",
    "\n",
    "#---------------------------------------------- Optimization -----------------------------------------#\n",
    "f_obj, params = PSO(f_Langmuir, bound_Langmuir, P=P, Y=Y)\n",
    "#f_obj, params = PSO(f_Freundlich, bound_Freundlich, n_part = 60, P=P, Y=Y)\n",
    "#f_obj, params  = PSO(f_Sips, bound_Sips, n_part = 400, n_ite = 5000, P=P, Y=Y)\n",
    "#f_obj, params  = PSO(f_Radke, bound_Radke, n_part = 200, n_ite = 1000, P=P, Y=Y)\n",
    "\n",
    "#------------------------------------------------- Plot ----------------------------------------------#\n",
    "plot_func(params, Model='Langmuir', P=P, Y=Y)\n",
    "\n",
    "#------------------------------------------- Parameters found ----------------------------------------#\n",
    "print(\"The value of cost function is: \",f_obj)\n",
    "print(\"\")\n",
    "print(\"The parameters are:\")\n",
    "print(params)"
   ]
  }
 ],
 "metadata": {
  "kernelspec": {
   "display_name": "Python 3",
   "language": "python",
   "name": "python3"
  },
  "language_info": {
   "codemirror_mode": {
    "name": "ipython",
    "version": 3
   },
   "file_extension": ".py",
   "mimetype": "text/x-python",
   "name": "python",
   "nbconvert_exporter": "python",
   "pygments_lexer": "ipython3",
   "version": "3.9.5"
  }
 },
 "nbformat": 4,
 "nbformat_minor": 5
}
