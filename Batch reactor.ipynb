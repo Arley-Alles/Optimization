{
 "cells": [
  {
   "cell_type": "markdown",
   "metadata": {},
   "source": [
    "## Batch reactor"
   ]
  },
  {
   "cell_type": "markdown",
   "metadata": {},
   "source": [
    "![title](Image\\Batch_reactor.jpg)"
   ]
  },
  {
   "attachments": {
    "image.png": {
     "image/png": "[encoded data removed]"
    }
   },
   "cell_type": "markdown",
   "metadata": {},
   "source": [
    "**Batch reactors** are used for most of the reactions carried out in a laboratory. It doesn't have flow **in** or **out** the system, thus the **mass balance** of this kind of reactor depends only the rate of mass accumulated, generated and consumed.\n",
    "\n",
    "In some times, is possible to combine knownledge of reactor plus optimization to find optimal operational parameter. In this context, let's find the optimum residance time in order to obtain maximum production of component B:\n",
    "\n",
    "![image.png](attachment:image.png)\n",
    "\n",
    "The inital concentrations and conversion rates are:\n",
    "\n",
    "* $ C_{A0} = 50 gmol/L \\quad k_1 = 2.0h^{-1} $;\n",
    "* $ C_{B0} = 5 gmol/L \\quad k_1 = 1.0h^{-1} $;\n",
    "* $ C_{C0} = 0 gmol/L \\quad k_1 = 0.2h^{-1} $;\n",
    "* $ C_{D0} = 0 gmol/L \\quad k_1 = 0.6h^{-1} $;"
   ]
  },
  {
   "cell_type": "markdown",
   "metadata": {},
   "source": [
    "For this problem we must assume some hypotesis:\n",
    "\n",
    "* Isotermic system;\n",
    "* Batch reactor perfectly stirred;\n",
    "* Constant volume (liquid phase only);\n",
    "* First order reactions;\n",
    "\n",
    "With mass balance for each component we can take the following ordinary differential equations (ODE):\n",
    "\n",
    "$ \\begin{cases} \\frac{\\partial C_A}{\\partial t} = K_2C_B - K_1C_A \\\\\n",
    " \\frac{\\partial C_B}{\\partial t} = K_1C_A - (K_2+K_3+K_4)C_B \\\\\n",
    " \\frac{\\partial C_C}{\\partial t} = K_3C_B \\\\\n",
    " \\frac{\\partial C_D}{\\partial t} = K_4C_B \\end{cases}$\n",
    " \n",
    "Next step is to organize the system above into a ODE in terms of $C_B$:\n",
    "\n",
    "$ \\frac{\\partial^2 C_B}{\\partial t^2}+(K_1+K_2+K_3+K_4)\\frac{\\partial C_B}{\\partial t}+K_1(K_3+K_4)C_B=0 $\n",
    "\n",
    "For this 2º order linear ODE the solution is given by:\n",
    "\n",
    "$ C_B(t) = ae^{\\beta_1f} + be^{\\beta_2f} $\n",
    "\n",
    "Where:\n",
    "\n",
    "* $ a = 38.01 $;\n",
    "* $ b = -33.01 $;\n",
    "* $ \\beta_1 = -0.485 $;\n",
    "* $ \\beta_2 = -3.315 $;\n",
    "\n",
    "Thus the above equation will be used in order to achieve the optimum **residence time** to maximize production of $ C_B$. So, **let's do it**"
   ]
  },
  {
   "cell_type": "code",
   "execution_count": 6,
   "metadata": {},
   "outputs": [],
   "source": [
    "from scipy.optimize import minimize\n",
    "import numpy as np"
   ]
  },
  {
   "cell_type": "markdown",
   "metadata": {},
   "source": [
    "### Definition of the function"
   ]
  },
  {
   "cell_type": "code",
   "execution_count": 10,
   "metadata": {},
   "outputs": [],
   "source": [
    "def func (x):\n",
    "    \n",
    "    f =  -(38.01*(np.exp((-0.485*x)))- 33.01*(np.exp((-3.315*x))))  \n",
    "    \n",
    "    return f"
   ]
  },
  {
   "cell_type": "markdown",
   "metadata": {},
   "source": [
    "### Optimization"
   ]
  },
  {
   "cell_type": "code",
   "execution_count": 11,
   "metadata": {},
   "outputs": [],
   "source": [
    "solution = minimize(func, x0 = 0, method = 'CG')"
   ]
  },
  {
   "cell_type": "markdown",
   "metadata": {},
   "source": [
    "### Optimization results"
   ]
  },
  {
   "cell_type": "code",
   "execution_count": 12,
   "metadata": {},
   "outputs": [
    {
     "data": {
      "text/plain": [
       "     fun: array([-23.91341642])\n",
       "     jac: array([4.76837158e-07])\n",
       " message: 'Optimization terminated successfully.'\n",
       "    nfev: 27\n",
       "     nit: 1\n",
       "    njev: 9\n",
       "  status: 0\n",
       " success: True\n",
       "       x: array([0.62933756])"
      ]
     },
     "execution_count": 12,
     "metadata": {},
     "output_type": "execute_result"
    }
   ],
   "source": [
    "solution"
   ]
  },
  {
   "cell_type": "code",
   "execution_count": 15,
   "metadata": {},
   "outputs": [
    {
     "name": "stdout",
     "output_type": "stream",
     "text": [
      "The optimal concentration of B:  23.913416419241656\n",
      "\n",
      "Optimal residence time:  0.6293375562413439\n"
     ]
    }
   ],
   "source": [
    "Cb = func(solution.x)\n",
    "print(\"The optimal concentration of B: \",abs(Cb[0]))\n",
    "print(\"\")\n",
    "print(\"Optimal residence time: \",solution.x[0])"
   ]
  }
 ],
 "metadata": {
  "kernelspec": {
   "display_name": "Python 3",
   "language": "python",
   "name": "python3"
  },
  "language_info": {
   "codemirror_mode": {
    "name": "ipython",
    "version": 3
   },
   "file_extension": ".py",
   "mimetype": "text/x-python",
   "name": "python",
   "nbconvert_exporter": "python",
   "pygments_lexer": "ipython3",
   "version": "3.7.3"
  }
 },
 "nbformat": 4,
 "nbformat_minor": 2
}
